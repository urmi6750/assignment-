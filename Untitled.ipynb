{
 "cells": [
  {
   "cell_type": "code",
   "execution_count": 14,
   "metadata": {
    "scrolled": true
   },
   "outputs": [
    {
     "name": "stdout",
     "output_type": "stream",
     "text": [
      "['9', 'Alston', 'True']\n",
      "['26', 'Atkins', 'False']\n",
      "['94', 'Ayala', 'True']\n",
      "['48', 'Ayers', 'True']\n",
      "['91', 'Barlow', 'False']\n",
      "['51', 'Beck', 'True']\n",
      "['69', 'Blackburn', 'False']\n",
      "['46', 'Bowers', 'True']\n",
      "['52', 'Boyd', 'False']\n",
      "['38', 'Brigg', 'True']\n",
      "['53', 'Briggs', 'True']\n",
      "['77', 'Browning', 'True']\n",
      "['86', 'Bryant', 'False']\n",
      "['39', 'Burks', 'True']\n",
      "['41', 'Byrd', 'False']\n",
      "['25', 'Cantu', 'False']\n",
      "['43', 'Carter', 'True']\n",
      "['32', 'Coleman', 'False']\n",
      "['50', 'Compton', 'False']\n",
      "['97', 'Conley', 'True']\n",
      "['95', 'Dawson', 'True']\n",
      "['68', 'Day', 'False']\n",
      "['40', 'Decker', 'False']\n",
      "['60', 'Dickerson', 'True']\n",
      "['36', 'Dyer', 'True']\n",
      "['18', 'Estes', 'False']\n",
      "['2', 'Fischer', 'False']\n",
      "['54', 'Fisher', 'True']\n",
      "['37', 'Flower', 'False']\n",
      "['55', 'Flowers', 'True']\n",
      "['70', 'Floyd', 'True']\n",
      "['29', 'Frederick', 'True']\n",
      "['14', 'French', 'True']\n",
      "['87', 'Fulton', 'True']\n",
      "['20', 'Gilmore', 'False']\n",
      "['90', 'Greer', 'False']\n",
      "['93', 'Gregory', 'False']\n",
      "['78', 'Griffin', 'False']\n",
      "['92', 'Gross', 'False']\n",
      "['0', 'Guzman', 'True']\n",
      "['4', 'Hardin', 'False']\n",
      "['15', 'Hardins', 'False']\n",
      "['28', 'Hart', 'False']\n",
      "['56', 'Hensley', 'False']\n",
      "['47', 'Hodges', 'True']\n",
      "['11', 'Holt', 'False']\n",
      "['85', 'Hooper', 'True']\n",
      "['17', 'Howe', 'True']\n",
      "['63', 'Hyde', 'False']\n",
      "['42', 'Johnson', 'False']\n",
      "['65', 'Keith', 'True']\n",
      "['67', 'Kemp', 'False']\n",
      "['74', 'King', 'False']\n",
      "['10', 'Kirby', 'False']\n",
      "['35', 'Kirk', 'False']\n",
      "['98', 'Knapp', 'False']\n",
      "['16', 'Leon', 'False']\n",
      "['75', 'Mathis', 'False']\n",
      "['27', 'May', 'True']\n",
      "['21', 'Mccall', 'False']\n",
      "['80', 'Mckee', 'False']\n",
      "['49', 'Mcneil', 'True']\n",
      "['3', 'Melendez', 'True']\n",
      "['88', 'Mercado', 'False']\n",
      "['61', 'Molina', 'True']\n",
      "['12', 'Morales', 'False']\n",
      "['71', 'Moran', 'True']\n",
      "['1', 'Morse', 'True']\n",
      "['76', 'Morses', 'True']\n",
      "['7', 'Moss', 'True']\n",
      "['31', 'Nolan', 'True']\n",
      "['34', 'Ortiz', 'False']\n",
      "['45', 'Pacheco', 'False']\n",
      "['73', 'Pachecos', 'False']\n",
      "['13', 'Padilla', 'False']\n",
      "['72', 'Perez', 'True']\n",
      "['24', 'Phillips', 'False']\n",
      "['66', 'Price', 'False']\n",
      "['84', 'Randolph', 'True']\n",
      "['23', 'Rios', 'True']\n",
      "['30', 'Roth', 'True']\n",
      "['44', 'Russo', 'False']\n",
      "['57', 'Salas', 'False']\n",
      "['8', 'Santiago', 'True']\n",
      "['62', 'Santos', 'True']\n",
      "['79', 'Savage', 'False']\n",
      "['89', 'Schroeder', 'True']\n",
      "['5', 'Shaffer', 'False']\n",
      "['64', 'Shelton', 'False']\n",
      "['82', 'Sosa', 'True']\n",
      "['22', 'Stanton', 'False']\n",
      "['33', 'Sutton', 'True']\n",
      "['81', 'Talley', 'False']\n",
      "['83', 'Tyler', 'False']\n",
      "['19', 'Valentine', 'False']\n",
      "['59', 'Wells', 'False']\n",
      "['58', 'West', 'False']\n",
      "['96', 'Wiley', 'False']\n",
      "['', 'Witt', 'True']\n",
      "['6', 'Wooten', 'False']\n"
     ]
    },
    {
     "data": {
      "text/html": [
       "<div>\n",
       "<style scoped>\n",
       "    .dataframe tbody tr th:only-of-type {\n",
       "        vertical-align: middle;\n",
       "    }\n",
       "\n",
       "    .dataframe tbody tr th {\n",
       "        vertical-align: top;\n",
       "    }\n",
       "\n",
       "    .dataframe thead th {\n",
       "        text-align: right;\n",
       "    }\n",
       "</style>\n",
       "<table border=\"1\" class=\"dataframe\">\n",
       "  <thead>\n",
       "    <tr style=\"text-align: right;\">\n",
       "      <th></th>\n",
       "      <th>0</th>\n",
       "      <th>1</th>\n",
       "      <th>2</th>\n",
       "    </tr>\n",
       "  </thead>\n",
       "  <tbody>\n",
       "    <tr>\n",
       "      <th>0</th>\n",
       "      <td>9</td>\n",
       "      <td>Alston</td>\n",
       "      <td>True</td>\n",
       "    </tr>\n",
       "    <tr>\n",
       "      <th>1</th>\n",
       "      <td>26</td>\n",
       "      <td>Atkins</td>\n",
       "      <td>False</td>\n",
       "    </tr>\n",
       "    <tr>\n",
       "      <th>2</th>\n",
       "      <td>94</td>\n",
       "      <td>Ayala</td>\n",
       "      <td>True</td>\n",
       "    </tr>\n",
       "    <tr>\n",
       "      <th>3</th>\n",
       "      <td>48</td>\n",
       "      <td>Ayers</td>\n",
       "      <td>True</td>\n",
       "    </tr>\n",
       "    <tr>\n",
       "      <th>4</th>\n",
       "      <td>91</td>\n",
       "      <td>Barlow</td>\n",
       "      <td>False</td>\n",
       "    </tr>\n",
       "  </tbody>\n",
       "</table>\n",
       "</div>"
      ],
      "text/plain": [
       "    0       1      2\n",
       "0   9  Alston   True\n",
       "1  26  Atkins  False\n",
       "2  94   Ayala   True\n",
       "3  48   Ayers   True\n",
       "4  91  Barlow  False"
      ]
     },
     "execution_count": 14,
     "metadata": {},
     "output_type": "execute_result"
    }
   ],
   "source": [
    "import pandas as pd\n",
    "import csv\n",
    "import numpy as np\n",
    "import collections  \n",
    "df = pd.read_csv(\"/home/fariya/Desktop/assignmnet/person\",delimiter=',')\n",
    "df.to_csv('assignment.csv')\n",
    "csvdata=[]\n",
    "with open(\"assignment.csv\") as csvfile:\n",
    "    readCSV=csv.reader(csvfile)\n",
    "    for line in readCSV:\n",
    "        csvdata.append(line)\n",
    "def getKey(item):\n",
    "    return item[1]\n",
    "\n",
    "csvdata.sort(key=getKey)\n",
    "\n",
    "for i in csvdata:\n",
    "    print(i)\n",
    "    df1=pd.DataFrame(csvdata)\n",
    "    df1.to_csv= ('/home/fariya/Desktop/assignment/assignment2.csv')\n",
    "    df1.read_csv=(\"assignment2.csv\")\n",
    "df1.head()    \n"
   ]
  },
  {
   "cell_type": "markdown",
   "metadata": {},
   "source": []
  },
  {
   "cell_type": "code",
   "execution_count": 3,
   "metadata": {},
   "outputs": [
    {
     "data": {
      "text/html": [
       "<div>\n",
       "<style scoped>\n",
       "    .dataframe tbody tr th:only-of-type {\n",
       "        vertical-align: middle;\n",
       "    }\n",
       "\n",
       "    .dataframe tbody tr th {\n",
       "        vertical-align: top;\n",
       "    }\n",
       "\n",
       "    .dataframe thead th {\n",
       "        text-align: right;\n",
       "    }\n",
       "</style>\n",
       "<table border=\"1\" class=\"dataframe\">\n",
       "  <thead>\n",
       "    <tr style=\"text-align: right;\">\n",
       "      <th></th>\n",
       "    </tr>\n",
       "    <tr>\n",
       "      <th>0</th>\n",
       "    </tr>\n",
       "  </thead>\n",
       "  <tbody>\n",
       "    <tr>\n",
       "      <th>1</th>\n",
       "    </tr>\n",
       "  </tbody>\n",
       "</table>\n",
       "</div>"
      ],
      "text/plain": [
       "Empty DataFrame\n",
       "Columns: []\n",
       "Index: [1]"
      ]
     },
     "execution_count": 3,
     "metadata": {},
     "output_type": "execute_result"
    }
   ],
   "source": [
    "import os\n",
    "import pandas as pd\n",
    "\n",
    "dirpath = '/home/fariya/Desktop/assignmnet/pred'\n",
    "output = '/home/fariya/Desktop/assignment/pred.csv'\n",
    "csvout_lst = []\n",
    "files = [os.path.join(dirpath, fname) for fname in os.listdir(dirpath)]\n",
    "\n",
    "for filename in sorted(files):\n",
    "    data = pd.read_csv(filename, sep=',', index_col=0, header=None)\n",
    "    csvout_lst.append(data)\n",
    "\n",
    "pd.concat(csvout_lst).to_csv(output)\n",
    "pd.read_csv(\"pred.csv\")\n",
    "data.head()"
   ]
  },
  {
   "cell_type": "code",
   "execution_count": 5,
   "metadata": {},
   "outputs": [],
   "source": [
    "df1.read_csv=(\"assignment2.csv\")"
   ]
  },
  {
   "cell_type": "code",
   "execution_count": 25,
   "metadata": {},
   "outputs": [
    {
     "name": "stdout",
     "output_type": "stream",
     "text": [
      "         0      1\n",
      "9   Alston   True\n",
      "26  Atkins  False\n",
      "94   Ayala   True\n",
      "48   Ayers   True\n",
      "91  Barlow  False\n",
      "..     ...    ...\n",
      "59   Wells  False\n",
      "58    West  False\n",
      "96   Wiley  False\n",
      "      Witt   True\n",
      "6   Wooten  False\n",
      "\n",
      "[100 rows x 2 columns]\n"
     ]
    }
   ],
   "source": [
    "import pandas as pd\n",
    "import csv\n",
    "import numpy as np\n",
    "from collections import OrderedDict\n",
    "\n",
    "\n",
    "\n",
    "\n",
    "df = pd.read_csv(\"/home/fariya/Desktop/assignmnet/person\",delimiter=',')\n",
    "df.to_csv('assignment.csv')\n",
    "with open('assignment.csv','r') as f:\n",
    "    r = csv.reader(f)\n",
    "    od = OrderedDict ((row[0], row[1:]) for row in r)\n",
    "    od=OrderedDict(sorted(od.items(), key=lambda t: t[1]))\n",
    "df1=pd.DataFrame(od)\n",
    "df1.to_csv= ('assignment.csv')\n",
    "df1.read_csv=(\"assignment.csv\")\n",
    "df1=df1.T\n",
    "df1.head()\n",
    "print(df1)\n",
    "\n",
    "with open(\"assignment.csv\", \"w\") as file:\n",
    "    writer = csv.writer(file, delimiter=\",\", lineterminator=\"\\n\")\n",
    "    for row_cells in od.values():\n",
    "        writer.writerow(row_cells)\n"
   ]
  },
  {
   "cell_type": "code",
   "execution_count": 26,
   "metadata": {},
   "outputs": [
    {
     "data": {
      "text/html": [
       "<div>\n",
       "<style scoped>\n",
       "    .dataframe tbody tr th:only-of-type {\n",
       "        vertical-align: middle;\n",
       "    }\n",
       "\n",
       "    .dataframe tbody tr th {\n",
       "        vertical-align: top;\n",
       "    }\n",
       "\n",
       "    .dataframe thead th {\n",
       "        text-align: right;\n",
       "    }\n",
       "</style>\n",
       "<table border=\"1\" class=\"dataframe\">\n",
       "  <thead>\n",
       "    <tr style=\"text-align: right;\">\n",
       "      <th></th>\n",
       "      <th>0</th>\n",
       "      <th>1</th>\n",
       "    </tr>\n",
       "  </thead>\n",
       "  <tbody>\n",
       "    <tr>\n",
       "      <th>9</th>\n",
       "      <td>Alston</td>\n",
       "      <td>True</td>\n",
       "    </tr>\n",
       "    <tr>\n",
       "      <th>26</th>\n",
       "      <td>Atkins</td>\n",
       "      <td>False</td>\n",
       "    </tr>\n",
       "    <tr>\n",
       "      <th>94</th>\n",
       "      <td>Ayala</td>\n",
       "      <td>True</td>\n",
       "    </tr>\n",
       "    <tr>\n",
       "      <th>48</th>\n",
       "      <td>Ayers</td>\n",
       "      <td>True</td>\n",
       "    </tr>\n",
       "    <tr>\n",
       "      <th>91</th>\n",
       "      <td>Barlow</td>\n",
       "      <td>False</td>\n",
       "    </tr>\n",
       "  </tbody>\n",
       "</table>\n",
       "</div>"
      ],
      "text/plain": [
       "         0      1\n",
       "9   Alston   True\n",
       "26  Atkins  False\n",
       "94   Ayala   True\n",
       "48   Ayers   True\n",
       "91  Barlow  False"
      ]
     },
     "execution_count": 26,
     "metadata": {},
     "output_type": "execute_result"
    }
   ],
   "source": [
    "df1.head()"
   ]
  },
  {
   "cell_type": "code",
   "execution_count": 51,
   "metadata": {},
   "outputs": [
    {
     "data": {
      "text/plain": [
       "Index([<class 'int'>, <class 'int'>], dtype='object')"
      ]
     },
     "execution_count": 51,
     "metadata": {},
     "output_type": "execute_result"
    }
   ],
   "source": [
    "\n",
    "df1.columns.map(type)\n",
    "\n"
   ]
  },
  {
   "cell_type": "code",
   "execution_count": 57,
   "metadata": {},
   "outputs": [
    {
     "name": "stdout",
     "output_type": "stream",
     "text": [
      "None\n"
     ]
    }
   ],
   "source": [
    "dfnew=df1.rename(columns={'value': '1'},inplace=True)\n",
    "print(dfnew)\n"
   ]
  },
  {
   "cell_type": "code",
   "execution_count": 27,
   "metadata": {},
   "outputs": [
    {
     "data": {
      "text/html": [
       "<div>\n",
       "<style scoped>\n",
       "    .dataframe tbody tr th:only-of-type {\n",
       "        vertical-align: middle;\n",
       "    }\n",
       "\n",
       "    .dataframe tbody tr th {\n",
       "        vertical-align: top;\n",
       "    }\n",
       "\n",
       "    .dataframe thead th {\n",
       "        text-align: right;\n",
       "    }\n",
       "</style>\n",
       "<table border=\"1\" class=\"dataframe\">\n",
       "  <thead>\n",
       "    <tr style=\"text-align: right;\">\n",
       "      <th></th>\n",
       "      <th>person</th>\n",
       "      <th>value</th>\n",
       "    </tr>\n",
       "  </thead>\n",
       "  <tbody>\n",
       "    <tr>\n",
       "      <th>0</th>\n",
       "      <td>Alston</td>\n",
       "      <td>True</td>\n",
       "    </tr>\n",
       "    <tr>\n",
       "      <th>1</th>\n",
       "      <td>Atkins</td>\n",
       "      <td>False</td>\n",
       "    </tr>\n",
       "    <tr>\n",
       "      <th>2</th>\n",
       "      <td>Ayala</td>\n",
       "      <td>True</td>\n",
       "    </tr>\n",
       "    <tr>\n",
       "      <th>3</th>\n",
       "      <td>Ayers</td>\n",
       "      <td>True</td>\n",
       "    </tr>\n",
       "    <tr>\n",
       "      <th>4</th>\n",
       "      <td>Barlow</td>\n",
       "      <td>False</td>\n",
       "    </tr>\n",
       "  </tbody>\n",
       "</table>\n",
       "</div>"
      ],
      "text/plain": [
       "   person  value\n",
       "0  Alston   True\n",
       "1  Atkins  False\n",
       "2   Ayala   True\n",
       "3   Ayers   True\n",
       "4  Barlow  False"
      ]
     },
     "execution_count": 27,
     "metadata": {},
     "output_type": "execute_result"
    }
   ],
   "source": [
    "df1=pd.read_csv('/home/fariya/Desktop/assignment/assignment.csv')\n",
    "df1.head()"
   ]
  },
  {
   "cell_type": "code",
   "execution_count": 28,
   "metadata": {},
   "outputs": [],
   "source": [
    "df1.value = df1.value.replace({True: 1, False: 0}) "
   ]
  },
  {
   "cell_type": "code",
   "execution_count": 29,
   "metadata": {},
   "outputs": [
    {
     "data": {
      "text/html": [
       "<div>\n",
       "<style scoped>\n",
       "    .dataframe tbody tr th:only-of-type {\n",
       "        vertical-align: middle;\n",
       "    }\n",
       "\n",
       "    .dataframe tbody tr th {\n",
       "        vertical-align: top;\n",
       "    }\n",
       "\n",
       "    .dataframe thead th {\n",
       "        text-align: right;\n",
       "    }\n",
       "</style>\n",
       "<table border=\"1\" class=\"dataframe\">\n",
       "  <thead>\n",
       "    <tr style=\"text-align: right;\">\n",
       "      <th></th>\n",
       "      <th>person</th>\n",
       "      <th>value</th>\n",
       "    </tr>\n",
       "  </thead>\n",
       "  <tbody>\n",
       "    <tr>\n",
       "      <th>0</th>\n",
       "      <td>Alston</td>\n",
       "      <td>1</td>\n",
       "    </tr>\n",
       "    <tr>\n",
       "      <th>1</th>\n",
       "      <td>Atkins</td>\n",
       "      <td>0</td>\n",
       "    </tr>\n",
       "    <tr>\n",
       "      <th>2</th>\n",
       "      <td>Ayala</td>\n",
       "      <td>1</td>\n",
       "    </tr>\n",
       "    <tr>\n",
       "      <th>3</th>\n",
       "      <td>Ayers</td>\n",
       "      <td>1</td>\n",
       "    </tr>\n",
       "    <tr>\n",
       "      <th>4</th>\n",
       "      <td>Barlow</td>\n",
       "      <td>0</td>\n",
       "    </tr>\n",
       "  </tbody>\n",
       "</table>\n",
       "</div>"
      ],
      "text/plain": [
       "   person  value\n",
       "0  Alston      1\n",
       "1  Atkins      0\n",
       "2   Ayala      1\n",
       "3   Ayers      1\n",
       "4  Barlow      0"
      ]
     },
     "execution_count": 29,
     "metadata": {},
     "output_type": "execute_result"
    }
   ],
   "source": [
    "df1.head()"
   ]
  },
  {
   "cell_type": "code",
   "execution_count": 33,
   "metadata": {},
   "outputs": [
    {
     "data": {
      "text/html": [
       "<div>\n",
       "<style scoped>\n",
       "    .dataframe tbody tr th:only-of-type {\n",
       "        vertical-align: middle;\n",
       "    }\n",
       "\n",
       "    .dataframe tbody tr th {\n",
       "        vertical-align: top;\n",
       "    }\n",
       "\n",
       "    .dataframe thead th {\n",
       "        text-align: right;\n",
       "    }\n",
       "</style>\n",
       "<table border=\"1\" class=\"dataframe\">\n",
       "  <thead>\n",
       "    <tr style=\"text-align: right;\">\n",
       "      <th></th>\n",
       "      <th>prediction</th>\n",
       "    </tr>\n",
       "  </thead>\n",
       "  <tbody>\n",
       "    <tr>\n",
       "      <th>0</th>\n",
       "      <td>0</td>\n",
       "    </tr>\n",
       "    <tr>\n",
       "      <th>1</th>\n",
       "      <td>1</td>\n",
       "    </tr>\n",
       "    <tr>\n",
       "      <th>2</th>\n",
       "      <td>1</td>\n",
       "    </tr>\n",
       "    <tr>\n",
       "      <th>3</th>\n",
       "      <td>1</td>\n",
       "    </tr>\n",
       "    <tr>\n",
       "      <th>4</th>\n",
       "      <td>1</td>\n",
       "    </tr>\n",
       "  </tbody>\n",
       "</table>\n",
       "</div>"
      ],
      "text/plain": [
       "   prediction\n",
       "0           0\n",
       "1           1\n",
       "2           1\n",
       "3           1\n",
       "4           1"
      ]
     },
     "execution_count": 33,
     "metadata": {},
     "output_type": "execute_result"
    }
   ],
   "source": [
    "df2=pd.read_csv(\"/home/fariya/Desktop/assignment/pred.csv\")\n",
    "df2.head()"
   ]
  },
  {
   "cell_type": "markdown",
   "metadata": {},
   "source": []
  },
  {
   "cell_type": "code",
   "execution_count": 34,
   "metadata": {},
   "outputs": [
    {
     "name": "stdout",
     "output_type": "stream",
     "text": [
      "    prediction\n",
      "0            0\n",
      "1            1\n",
      "2            1\n",
      "3            1\n",
      "4            1\n",
      "..         ...\n",
      "95           1\n",
      "96           1\n",
      "97           1\n",
      "98           1\n",
      "99           1\n",
      "\n",
      "[100 rows x 1 columns]\n"
     ]
    }
   ],
   "source": [
    "print(df2)"
   ]
  },
  {
   "cell_type": "code",
   "execution_count": 39,
   "metadata": {},
   "outputs": [
    {
     "name": "stdout",
     "output_type": "stream",
     "text": [
      "[0, 1, 1, 1, 1, 1, 1, 1, 1, 1, 1, 1, 1, 1, 1, 1, 0, 1, 1, 1, 1, 1, 1, 1, 1, 1, 1, 1, 1, 1, 1, 1, 1, 1, 1, 1, 1, 1, 1, 1, 1, 1, 1, 1, 1, 1, 1, 1, 1, 1, 1, 1, 1, 1, 1, 1, 1, 1, 1, 1, 1, 1, 1, 1, 1, 1, 1, 1, 1, 1, 1, 1, 1, 1, 1, 1, 1, 1, 1, 1, 1, 0, 1, 1, 1, 1, 1, 1, 1, 1, 1, 1, 1, 1, 1, 1, 1, 1, 1, 1]\n"
     ]
    }
   ],
   "source": [
    "predicted_values = df2['prediction'].to_list()\n",
    "print(predicted_values)\n"
   ]
  },
  {
   "cell_type": "code",
   "execution_count": 40,
   "metadata": {},
   "outputs": [
    {
     "name": "stdout",
     "output_type": "stream",
     "text": [
      "[1, 0, 1, 1, 0, 1, 0, 1, 0, 1, 1, 1, 0, 1, 0, 0, 1, 0, 0, 1, 1, 0, 0, 1, 1, 0, 0, 1, 0, 1, 1, 1, 1, 1, 0, 0, 0, 0, 0, 1, 0, 0, 0, 0, 1, 0, 1, 1, 0, 0, 1, 0, 0, 0, 0, 0, 0, 0, 1, 0, 0, 1, 1, 0, 1, 0, 1, 1, 1, 1, 1, 0, 0, 0, 0, 1, 0, 0, 1, 1, 1, 0, 0, 1, 1, 0, 1, 0, 0, 1, 0, 1, 0, 0, 0, 0, 0, 0, 1, 0]\n"
     ]
    }
   ],
   "source": [
    "original_values = df1['value'].to_list()\n",
    "print(original_values)\n"
   ]
  },
  {
   "cell_type": "code",
   "execution_count": 46,
   "metadata": {},
   "outputs": [
    {
     "name": "stdout",
     "output_type": "stream",
     "text": [
      "              precision    recall  f1-score   support\n",
      "\n",
      "           0       0.33      0.02      0.03        56\n",
      "           1       0.43      0.95      0.60        44\n",
      "\n",
      "    accuracy                           0.43       100\n",
      "   macro avg       0.38      0.49      0.31       100\n",
      "weighted avg       0.38      0.43      0.28       100\n",
      "\n"
     ]
    }
   ],
   "source": [
    "from sklearn.metrics import classification_report\n",
    "\n",
    "y_true = original_values\n",
    "y_pred = predicted_values\n",
    "\n",
    "print (sklearn.metrics.classification_report(y_true, y_pred))"
   ]
  },
  {
   "cell_type": "code",
   "execution_count": 62,
   "metadata": {},
   "outputs": [
    {
     "name": "stdout",
     "output_type": "stream",
     "text": [
      "[[ 1 55]\n",
      " [ 2 42]]\n",
      "[ 2. 55.]\n",
      "[55.  2.]\n",
      "[ 1. 42.]\n",
      "[42.  1.]\n"
     ]
    }
   ],
   "source": [
    "import numpy as np\n",
    "from sklearn.metrics import confusion_matrix\n",
    "\n",
    "y_true = original_values\n",
    "y_pred = predicted_values\n",
    "\n",
    "cnf_matrix = confusion_matrix(y_true, y_pred)\n",
    "print(cnf_matrix)\n",
    "\n",
    "FP = cnf_matrix.sum(axis=0) - np.diag(cnf_matrix)  \n",
    "FN = cnf_matrix.sum(axis=1) - np.diag(cnf_matrix)\n",
    "TP = np.diag(cnf_matrix)\n",
    "TN = cnf_matrix.sum() - (FP + FN + TP)\n",
    "\n",
    "FP = FP.astype(float)\n",
    "FN = FN.astype(float)\n",
    "TP = TP.astype(float)\n",
    "TN = TN.astype(float)\n",
    "print(FP)\n",
    "print(FN)\n",
    "print(TP)\n",
    "print(TN)\n",
    "\n"
   ]
  },
  {
   "cell_type": "code",
   "execution_count": 54,
   "metadata": {},
   "outputs": [],
   "source": [
    "def perf_measure(original_values,predicted_values):\n",
    "    TP = 0\n",
    "    FP = 0\n",
    "    TN = 0\n",
    "    FN = 0\n",
    "\n",
    "    for i in range(len(predicted_values)): \n",
    "        if original_values[i]==predicted_values[i]==1:\n",
    "           TP += 1\n",
    "        if predicted_values[i]==1 and original_values[i]!=predicted_values[i]:\n",
    "           FP += 1\n",
    "        if original_values[i]==predicted_values[i]==0:\n",
    "           TN += 1\n",
    "        if predicted_values[i]==0 and original_values[i]!=predicted_values[i]:\n",
    "           FN += 1\n",
    "\n",
    "    return(TP, FP, TN, FN)\n",
    "    \n"
   ]
  },
  {
   "cell_type": "code",
   "execution_count": 64,
   "metadata": {},
   "outputs": [
    {
     "data": {
      "text/plain": [
       "0.3148214929679048"
      ]
     },
     "execution_count": 64,
     "metadata": {},
     "output_type": "execute_result"
    }
   ],
   "source": [
    "from sklearn.metrics import f1_score\n",
    "y_true = original_values\n",
    "y_pred = predicted_values\n",
    "f1_score(y_true, y_pred, average='macro')\n",
    "\n"
   ]
  },
  {
   "cell_type": "code",
   "execution_count": 65,
   "metadata": {},
   "outputs": [
    {
     "data": {
      "text/plain": [
       "0.42999999999999994"
      ]
     },
     "execution_count": 65,
     "metadata": {},
     "output_type": "execute_result"
    }
   ],
   "source": [
    "f1_score(y_true, y_pred, average='micro')\n"
   ]
  },
  {
   "cell_type": "code",
   "execution_count": 66,
   "metadata": {},
   "outputs": [
    {
     "data": {
      "text/plain": [
       "0.28111071042192565"
      ]
     },
     "execution_count": 66,
     "metadata": {},
     "output_type": "execute_result"
    }
   ],
   "source": [
    "f1_score(y_true, y_pred, average='weighted')"
   ]
  },
  {
   "cell_type": "code",
   "execution_count": 67,
   "metadata": {},
   "outputs": [
    {
     "data": {
      "text/plain": [
       "array([0.03389831, 0.59574468])"
      ]
     },
     "execution_count": 67,
     "metadata": {},
     "output_type": "execute_result"
    }
   ],
   "source": [
    "f1_score(y_true, y_pred, average=None)"
   ]
  },
  {
   "cell_type": "code",
   "execution_count": null,
   "metadata": {},
   "outputs": [],
   "source": []
  }
 ],
 "metadata": {
  "kernelspec": {
   "display_name": "Python 3",
   "language": "python",
   "name": "python3"
  },
  "language_info": {
   "codemirror_mode": {
    "name": "ipython",
    "version": 3
   },
   "file_extension": ".py",
   "mimetype": "text/x-python",
   "name": "python",
   "nbconvert_exporter": "python",
   "pygments_lexer": "ipython3",
   "version": "3.7.6"
  }
 },
 "nbformat": 4,
 "nbformat_minor": 4
}
